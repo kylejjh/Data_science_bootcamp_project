{
 "cells": [
  {
   "cell_type": "markdown",
   "id": "cf992a12",
   "metadata": {},
   "source": [
    "# Week 4: Basic Modeling - Predicting NO2 Levels\n",
    "\n",
    "This notebook builds a basic regression model to predict NO2 levels based on other pollutants and metadata.\n"
   ]
  },
  {
   "cell_type": "code",
   "execution_count": null,
   "id": "6a55bfb2",
   "metadata": {},
   "outputs": [],
   "source": [
    "import pandas as pd\n",
    "import matplotlib.pyplot as plt\n",
    "import seaborn as sns\n",
    "from sklearn.model_selection import train_test_split\n",
    "from sklearn.linear_model import LinearRegression\n",
    "from sklearn.metrics import mean_squared_error\n",
    "\n",
    "sns.set(style=\"whitegrid\")\n",
    "\n",
    "df = pd.read_csv(\"../data/data.csv\", encoding=\"ISO-8859-1\")\n",
    "df['date'] = pd.to_datetime(df['date'], errors='coerce')\n",
    "df['year'] = df['date'].dt.year\n",
    "df['month'] = df['date'].dt.month\n"
   ]
  },
  {
   "cell_type": "code",
   "execution_count": null,
   "id": "0f5e0c8b",
   "metadata": {},
   "outputs": [],
   "source": [
    "cols_needed = ['so2', 'rspm', 'spm', 'pm2_5', 'type', 'month', 'year', 'no2']\n",
    "df_model = df[cols_needed].dropna()\n",
    "\n",
    "# Encode categorical variable\n",
    "df_model = pd.get_dummies(df_model, columns=['type'], drop_first=True)\n",
    "df_model.head()"
   ]
  },
  {
   "cell_type": "code",
   "execution_count": null,
   "id": "9a4b4354",
   "metadata": {},
   "outputs": [],
   "source": [
    "X = df_model.drop('no2', axis=1)\n",
    "y = df_model['no2']\n",
    "\n",
    "X_train, X_test, y_train, y_test = train_test_split(X, y, test_size=0.2, random_state=42)\n",
    "\n",
    "model = LinearRegression()\n",
    "model.fit(X_train, y_train)"
   ]
  },
  {
   "cell_type": "code",
   "execution_count": null,
   "id": "77ed3dfe",
   "metadata": {},
   "outputs": [],
   "source": [
    "y_pred = model.predict(X_test)\n",
    "rmse = mean_squared_error(y_test, y_pred, squared=False)\n",
    "print(f\"RMSE: {rmse:.2f}\")\n",
    "\n",
    "# Plot actual vs predicted\n",
    "plt.figure(figsize=(6,6))\n",
    "sns.scatterplot(x=y_test, y=y_pred, alpha=0.3)\n",
    "plt.xlabel(\"Actual NO2\")\n",
    "plt.ylabel(\"Predicted NO2\")\n",
    "plt.title(\"Actual vs. Predicted NO2 Levels\")\n",
    "plt.plot([0, max(y_test)], [0, max(y_test)], color='red', linestyle='--')\n",
    "plt.show()"
   ]
  },
  {
   "cell_type": "markdown",
   "id": "2dd8960b",
   "metadata": {},
   "source": [
    "## Summary\n",
    "\n",
    "- A linear regression model was trained to predict NO2 levels using other features.\n",
    "- RMSE gives us a baseline error to compare future models.\n",
    "- Actual vs. predicted plot shows correlation but room for improvement.\n"
   ]
  }
 ],
 "metadata": {},
 "nbformat": 4,
 "nbformat_minor": 5
}
