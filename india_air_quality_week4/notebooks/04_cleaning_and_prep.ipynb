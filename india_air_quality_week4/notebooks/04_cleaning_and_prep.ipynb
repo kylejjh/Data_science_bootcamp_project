{
 "cells": [
  {
   "cell_type": "markdown",
   "id": "cfd4d9b0",
   "metadata": {},
   "source": [
    "# Week 4: Data Cleaning & Preparation\n",
    "\n",
    "This notebook focuses on cleaning the dataset and preparing it for modeling.\n"
   ]
  },
  {
   "cell_type": "code",
   "execution_count": null,
   "id": "280d302f",
   "metadata": {},
   "outputs": [],
   "source": [
    "import pandas as pd\n",
    "import numpy as np\n",
    "\n",
    "df = pd.read_csv(\"../data/data.csv\", encoding=\"ISO-8859-1\")\n",
    "df['date'] = pd.to_datetime(df['date'], errors='coerce')\n",
    "df['year'] = df['date'].dt.year\n",
    "df['month'] = df['date'].dt.month\n"
   ]
  },
  {
   "cell_type": "code",
   "execution_count": null,
   "id": "68ee1c39",
   "metadata": {},
   "outputs": [],
   "source": [
    "cols_to_keep = ['state', 'location', 'type', 'date', 'year', 'month',\n",
    "                'so2', 'no2', 'rspm', 'spm', 'pm2_5']\n",
    "df = df[cols_to_keep]"
   ]
  },
  {
   "cell_type": "code",
   "execution_count": null,
   "id": "6576eac3",
   "metadata": {},
   "outputs": [],
   "source": [
    "df = df.dropna(subset=['so2', 'no2', 'rspm', 'spm', 'pm2_5'], how='all')\n",
    "\n",
    "for col in ['so2', 'no2', 'rspm', 'spm', 'pm2_5']:\n",
    "    df[col] = df[col].fillna(df[col].median())"
   ]
  },
  {
   "cell_type": "code",
   "execution_count": null,
   "id": "2e4f2981",
   "metadata": {},
   "outputs": [],
   "source": [
    "df['total_pollution'] = df[['so2', 'no2', 'rspm', 'spm', 'pm2_5']].sum(axis=1)\n",
    "\n",
    "df['season'] = df['month'].map({\n",
    "    12: 'Winter', 1: 'Winter', 2: 'Winter',\n",
    "    3: 'Spring', 4: 'Spring', 5: 'Spring',\n",
    "    6: 'Summer', 7: 'Summer', 8: 'Summer',\n",
    "    9: 'Fall', 10: 'Fall', 11: 'Fall'\n",
    "})"
   ]
  },
  {
   "cell_type": "code",
   "execution_count": null,
   "id": "3aa3acb9",
   "metadata": {},
   "outputs": [],
   "source": [
    "print(\"Cleaned dataset shape:\", df.shape)\n",
    "df.head()"
   ]
  },
  {
   "cell_type": "code",
   "execution_count": null,
   "id": "0e9c8164",
   "metadata": {},
   "outputs": [],
   "source": [
    "df.to_csv(\"../data/cleaned_air_quality.csv\", index=False)"
   ]
  }
 ],
 "metadata": {},
 "nbformat": 4,
 "nbformat_minor": 5
}
