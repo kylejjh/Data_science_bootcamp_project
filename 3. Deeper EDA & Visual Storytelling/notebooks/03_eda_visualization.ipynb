{
 "cells": [
  {
   "cell_type": "markdown",
   "id": "777d8717",
   "metadata": {},
   "source": [
    "# Week 3: EDA & Visualization\n",
    "\n",
    "This notebook builds on feature exploration with deeper visualizations and temporal/geographic analysis.\n"
   ]
  },
  {
   "cell_type": "code",
   "execution_count": null,
   "id": "981c5351",
   "metadata": {},
   "outputs": [],
   "source": [
    "import pandas as pd\n",
    "import matplotlib.pyplot as plt\n",
    "import seaborn as sns\n",
    "\n",
    "sns.set(style=\"whitegrid\")\n",
    "\n",
    "df = pd.read_csv(\"../data/data.csv\", encoding=\"ISO-8859-1\")\n",
    "df['date'] = pd.to_datetime(df['date'], errors='coerce')\n",
    "df['year'] = df['date'].dt.year\n",
    "df['month'] = df['date'].dt.month\n",
    "df['day'] = df['date'].dt.day\n",
    "\n",
    "pollutants = ['so2', 'no2', 'rspm', 'spm', 'pm2_5']\n"
   ]
  },
  {
   "cell_type": "code",
   "execution_count": null,
   "id": "7da7e0fe",
   "metadata": {},
   "outputs": [],
   "source": [
    "monthly_avg = df.groupby('month')[pollutants].mean()\n",
    "monthly_avg.plot(figsize=(10, 6), title=\"Monthly Pollution Trends\")\n",
    "plt.ylabel(\"Concentration\")\n",
    "plt.xticks(range(1, 13))\n",
    "plt.grid()\n",
    "plt.show()"
   ]
  },
  {
   "cell_type": "code",
   "execution_count": null,
   "id": "0a1dc3b7",
   "metadata": {},
   "outputs": [],
   "source": [
    "pivot = df.pivot_table(values='no2', index='year', columns='month', aggfunc='mean')\n",
    "plt.figure(figsize=(12, 6))\n",
    "sns.heatmap(pivot, cmap='coolwarm', annot=True, fmt=\".1f\")\n",
    "plt.title(\"NO2 Levels by Year and Month\")\n",
    "plt.show()"
   ]
  },
  {
   "cell_type": "code",
   "execution_count": null,
   "id": "10f8b1a0",
   "metadata": {},
   "outputs": [],
   "source": [
    "top_cities = df['location'].value_counts().head(6).index.tolist()\n",
    "df_top_cities = df[df['location'].isin(top_cities)]\n",
    "\n",
    "plt.figure(figsize=(12, 6))\n",
    "sns.lineplot(data=df_top_cities, x='year', y='no2', hue='location')\n",
    "plt.title(\"NO2 Trends Over Time (Top Cities)\")\n",
    "plt.ylabel(\"NO2 Level\")\n",
    "plt.show()"
   ]
  },
  {
   "cell_type": "code",
   "execution_count": null,
   "id": "3cddf05b",
   "metadata": {},
   "outputs": [],
   "source": [
    "type_trends = df.groupby(['year', 'type'])['no2'].mean().unstack()\n",
    "type_trends.plot(figsize=(12, 6), title=\"NO2 Trends by Area Type\")\n",
    "plt.ylabel(\"NO2 Level\")\n",
    "plt.show()"
   ]
  },
  {
   "cell_type": "markdown",
   "id": "c1664ea7",
   "metadata": {},
   "source": [
    "## Summary\n",
    "\n",
    "- Seasonal (monthly) NO2 and SO2 patterns emerge, with spikes in certain months.\n",
    "- Top cities show consistent long-term NO2 trends.\n",
    "- Industrial and residential areas show differing pollution dynamics.\n"
   ]
  }
 ],
 "metadata": {},
 "nbformat": 4,
 "nbformat_minor": 5
}
