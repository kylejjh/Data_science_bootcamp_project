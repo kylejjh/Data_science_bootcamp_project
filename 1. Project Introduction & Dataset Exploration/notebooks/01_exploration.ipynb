{
 "cells": [
  {
   "cell_type": "markdown",
   "id": "7feeb939",
   "metadata": {},
   "source": [
    "# Week 1: Dataset Exploration\n",
    "\n",
    "This notebook covers initial data loading, inspection, and basic exploration of the India Air Quality dataset.\n"
   ]
  },
  {
   "cell_type": "code",
   "execution_count": null,
   "id": "411d4e42",
   "metadata": {},
   "outputs": [],
   "source": [
    "import pandas as pd\n",
    "import matplotlib.pyplot as plt\n",
    "import seaborn as sns\n",
    "\n",
    "# Set plot style\n",
    "sns.set(style=\"whitegrid\")\n"
   ]
  },
  {
   "cell_type": "code",
   "execution_count": null,
   "id": "2c2adde8",
   "metadata": {},
   "outputs": [],
   "source": [
    "# Load the dataset\n",
    "df = pd.read_csv(\"../data/data.csv\", encoding=\"ISO-8859-1\")\n",
    "print(\"Shape of dataset:\", df.shape)\n",
    "df.head()"
   ]
  },
  {
   "cell_type": "code",
   "execution_count": null,
   "id": "24ee2022",
   "metadata": {},
   "outputs": [],
   "source": [
    "# View column names and data types\n",
    "print(\"Columns:\", df.columns.tolist())\n",
    "df.info()"
   ]
  },
  {
   "cell_type": "code",
   "execution_count": null,
   "id": "fd3d56be",
   "metadata": {},
   "outputs": [],
   "source": [
    "# Check missing values\n",
    "df.isnull().sum().sort_values(ascending=False)"
   ]
  },
  {
   "cell_type": "code",
   "execution_count": null,
   "id": "bd1d02a8",
   "metadata": {},
   "outputs": [],
   "source": [
    "# Summary statistics for numerical columns\n",
    "df.describe()"
   ]
  },
  {
   "cell_type": "code",
   "execution_count": null,
   "id": "3fd45176",
   "metadata": {},
   "outputs": [],
   "source": [
    "# Parse date column\n",
    "df['date'] = pd.to_datetime(df['date'], errors='coerce')\n",
    "df['year'] = df['date'].dt.year\n",
    "df['month'] = df['date'].dt.month\n",
    "\n",
    "# Check date range\n",
    "print(\"Date range:\", df['date'].min(), \"to\", df['date'].max())"
   ]
  },
  {
   "cell_type": "code",
   "execution_count": null,
   "id": "a108ac0a",
   "metadata": {},
   "outputs": [],
   "source": [
    "# Visualize records per year\n",
    "df['year'].value_counts().sort_index().plot(kind='bar', figsize=(10, 5), title=\"Records per Year\")\n",
    "plt.xlabel(\"Year\")\n",
    "plt.ylabel(\"Number of Records\")\n",
    "plt.show()"
   ]
  },
  {
   "cell_type": "code",
   "execution_count": null,
   "id": "fff0b82f",
   "metadata": {},
   "outputs": [],
   "source": [
    "# Most represented states and cities\n",
    "print(\"Top 10 States:\")\n",
    "print(df['state'].value_counts().head(10))\n",
    "\n",
    "print(\"\\nTop 10 Locations:\")\n",
    "print(df['location'].value_counts().head(10))"
   ]
  },
  {
   "cell_type": "markdown",
   "id": "0fd31ffc",
   "metadata": {},
   "source": [
    "## Summary\n",
    "\n",
    "- The dataset contains over 430,000 entries spanning multiple years.\n",
    "- Columns like `so2`, `no2`, `rspm`, `spm`, and `pm2_5` are crucial for analysis but have missing values.\n",
    "- Some states and locations are much more represented than others.\n",
    "- `date` column has been converted to datetime, and `year` and `month` extracted for time-based analysis.\n"
   ]
  }
 ],
 "metadata": {},
 "nbformat": 4,
 "nbformat_minor": 5
}
