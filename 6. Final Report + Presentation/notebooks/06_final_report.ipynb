{
 "cells": [
  {
   "cell_type": "markdown",
   "id": "0b3ecc93",
   "metadata": {},
   "source": [
    "# Week 6: Final Report\n",
    "\n",
    "This notebook summarizes the full air quality analysis project.\n"
   ]
  },
  {
   "cell_type": "markdown",
   "id": "80cdf033",
   "metadata": {},
   "source": [
    "## Project Overview\n",
    "\n",
    "This project analyzes air quality in India using historical data from multiple cities and states.\n",
    "\n",
    "### Goals:\n",
    "- Understand pollution trends over time\n",
    "- Compare pollution across seasons, locations, and area types\n",
    "- Predict pollutant levels using statistical models\n"
   ]
  },
  {
   "cell_type": "code",
   "execution_count": null,
   "id": "28dfe90d",
   "metadata": {},
   "outputs": [],
   "source": [
    "import pandas as pd\n",
    "import matplotlib.pyplot as plt\n",
    "import seaborn as sns\n",
    "from sklearn.linear_model import LinearRegression\n",
    "from sklearn.model_selection import train_test_split\n",
    "from sklearn.metrics import mean_squared_error, r2_score\n",
    "\n",
    "df = pd.read_csv(\"../data/cleaned_air_quality.csv\")\n",
    "df.head()"
   ]
  },
  {
   "cell_type": "code",
   "execution_count": null,
   "id": "63bff2d1",
   "metadata": {},
   "outputs": [],
   "source": [
    "sns.boxplot(x=\"type\", y=\"no2\", data=df)\n",
    "plt.title(\"NO2 Levels by Area Type\")\n",
    "plt.xticks(rotation=45)\n",
    "plt.show()"
   ]
  },
  {
   "cell_type": "code",
   "execution_count": null,
   "id": "b4bddebd",
   "metadata": {},
   "outputs": [],
   "source": [
    "monthly_avg = df.groupby(\"month\")[['so2', 'no2', 'rspm']].mean()\n",
    "monthly_avg.plot(title=\"Monthly Average Pollution Levels\")\n",
    "plt.ylabel(\"Concentration\")\n",
    "plt.show()"
   ]
  },
  {
   "cell_type": "markdown",
   "id": "8d29baa4",
   "metadata": {},
   "source": [
    "## Hypothesis Testing Results\n",
    "\n",
    "- Industrial areas have higher NO₂ than residential → ✅ Supported (p < 0.05)\n",
    "- Winter has higher pollution than summer → ✅ Supported\n"
   ]
  },
  {
   "cell_type": "code",
   "execution_count": null,
   "id": "a20ed824",
   "metadata": {},
   "outputs": [],
   "source": [
    "features = ['so2', 'rspm', 'spm', 'pm2_5']\n",
    "X = df[features]\n",
    "y = df['no2']\n",
    "\n",
    "X_train, X_test, y_train, y_test = train_test_split(X, y, test_size=0.2, random_state=42)\n",
    "\n",
    "model = LinearRegression()\n",
    "model.fit(X_train, y_train)\n",
    "y_pred = model.predict(X_test)\n",
    "\n",
    "print(\"R2 Score:\", r2_score(y_test, y_pred))\n",
    "print(\"RMSE:\", mean_squared_error(y_test, y_pred, squared=False))"
   ]
  },
  {
   "cell_type": "markdown",
   "id": "105f163b",
   "metadata": {},
   "source": [
    "## Conclusion\n",
    "\n",
    "- Pollution levels vary by location, season, and area type.\n",
    "- NO₂ can be moderately predicted from other pollutants.\n",
    "- This project provides insights for policy, urban planning, and public health.\n",
    "\n",
    "### Further Work:\n",
    "- Time-series forecasting\n",
    "- Clustering for pollution typologies\n",
    "- Geospatial visualizations\n"
   ]
  }
 ],
 "metadata": {},
 "nbformat": 4,
 "nbformat_minor": 5
}
