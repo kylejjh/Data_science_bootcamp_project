{
 "cells": [
  {
   "cell_type": "markdown",
   "id": "f40b2d36",
   "metadata": {},
   "source": [
    "# Week 5: Hypothesis Testing & Modeling\n",
    "\n",
    "This notebook tests pollution differences between groups and builds a regression model to predict NO₂.\n"
   ]
  },
  {
   "cell_type": "code",
   "execution_count": null,
   "id": "213e21bf",
   "metadata": {},
   "outputs": [],
   "source": [
    "import pandas as pd\n",
    "from scipy.stats import ttest_ind\n",
    "\n",
    "df = pd.read_csv(\"../data/cleaned_air_quality.csv\")\n",
    "\n",
    "# Hypothesis: Is NO₂ higher in Industrial areas than Residential?\n",
    "res = df[df['type'].str.contains('Residential', na=False)]\n",
    "ind = df[df['type'].str.contains('Industrial', na=False)]\n",
    "\n",
    "t_stat, p_value = ttest_ind(res['no2'], ind['no2'], equal_var=False)\n",
    "print(f\"T-statistic: {t_stat:.2f}, P-value: {p_value:.4f}\")\n"
   ]
  },
  {
   "cell_type": "code",
   "execution_count": null,
   "id": "3f5139ec",
   "metadata": {},
   "outputs": [],
   "source": [
    "from sklearn.model_selection import train_test_split\n",
    "from sklearn.linear_model import LinearRegression\n",
    "from sklearn.metrics import mean_squared_error, r2_score\n",
    "\n",
    "# Define features and target\n",
    "features = ['so2', 'rspm', 'spm', 'pm2_5']\n",
    "df = df.dropna(subset=features)\n",
    "X = df[features]\n",
    "y = df['no2']\n",
    "\n",
    "# Split data\n",
    "X_train, X_test, y_train, y_test = train_test_split(X, y, test_size=0.2, random_state=42)\n",
    "\n",
    "# Fit model\n",
    "model = LinearRegression()\n",
    "model.fit(X_train, y_train)\n",
    "y_pred = model.predict(X_test)\n",
    "\n",
    "# Evaluation\n",
    "print(\"R²:\", r2_score(y_test, y_pred))\n",
    "print(\"RMSE:\", mean_squared_error(y_test, y_pred, squared=False))"
   ]
  },
  {
   "cell_type": "markdown",
   "id": "70873437",
   "metadata": {},
   "source": [
    "## Summary\n",
    "\n",
    "- T-test suggests whether NO₂ levels are significantly different between Industrial and Residential areas.\n",
    "- Linear regression attempts to model NO₂ based on other pollutants.\n",
    "- Evaluation metrics (R² and RMSE) help assess model performance.\n"
   ]
  }
 ],
 "metadata": {},
 "nbformat": 4,
 "nbformat_minor": 5
}
