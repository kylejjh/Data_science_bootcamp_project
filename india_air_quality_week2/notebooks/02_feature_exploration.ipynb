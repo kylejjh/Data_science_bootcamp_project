{
 "cells": [
  {
   "cell_type": "markdown",
   "id": "6d5b02ce",
   "metadata": {},
   "source": [
    "# Week 2: Feature Exploration\n",
    "\n",
    "This notebook focuses on exploring pollutant features across time, region, and area types.\n"
   ]
  },
  {
   "cell_type": "code",
   "execution_count": null,
   "id": "cfe1bcef",
   "metadata": {},
   "outputs": [],
   "source": [
    "import pandas as pd\n",
    "import matplotlib.pyplot as plt\n",
    "import seaborn as sns\n",
    "\n",
    "sns.set(style=\"whitegrid\")\n",
    "\n",
    "df = pd.read_csv(\"../data/data.csv\", encoding=\"ISO-8859-1\")\n",
    "df['date'] = pd.to_datetime(df['date'], errors='coerce')\n",
    "df['year'] = df['date'].dt.year\n",
    "df['month'] = df['date'].dt.month\n",
    "\n",
    "df.head()"
   ]
  },
  {
   "cell_type": "code",
   "execution_count": null,
   "id": "24e505b7",
   "metadata": {},
   "outputs": [],
   "source": [
    "pollutants = ['so2', 'no2', 'rspm', 'spm', 'pm2_5']\n",
    "df[pollutants].isnull().mean().sort_values(ascending=False) * 100"
   ]
  },
  {
   "cell_type": "code",
   "execution_count": null,
   "id": "c11f5e1d",
   "metadata": {},
   "outputs": [],
   "source": [
    "for col in pollutants:\n",
    "    sns.histplot(df[col].dropna(), kde=True)\n",
    "    plt.title(f\"Distribution of {col}\")\n",
    "    plt.xlabel(col)\n",
    "    plt.show()"
   ]
  },
  {
   "cell_type": "code",
   "execution_count": null,
   "id": "576133f6",
   "metadata": {},
   "outputs": [],
   "source": [
    "pollution_by_year = df.groupby('year')[pollutants].mean()\n",
    "pollution_by_year.plot(figsize=(12, 6), title=\"Yearly Average Pollutant Levels\")\n",
    "plt.ylabel(\"Concentration\")\n",
    "plt.xlabel(\"Year\")\n",
    "plt.show()"
   ]
  },
  {
   "cell_type": "code",
   "execution_count": null,
   "id": "3a3fe924",
   "metadata": {},
   "outputs": [],
   "source": [
    "sns.boxplot(x=\"type\", y=\"no2\", data=df)\n",
    "plt.title(\"NO2 Levels by Area Type\")\n",
    "plt.xticks(rotation=45)\n",
    "plt.show()"
   ]
  },
  {
   "cell_type": "code",
   "execution_count": null,
   "id": "47fab3ff",
   "metadata": {},
   "outputs": [],
   "source": [
    "state_pollution = df.groupby('state')[pollutants].mean().sort_values(by='no2', ascending=False)\n",
    "state_pollution[['no2']].plot(kind='bar', figsize=(12, 6), title=\"Average NO2 by State\")\n",
    "plt.ylabel(\"NO2 Level\")\n",
    "plt.show()"
   ]
  },
  {
   "cell_type": "markdown",
   "id": "ee38c3fb",
   "metadata": {},
   "source": [
    "## Summary\n",
    "\n",
    "- Explored pollutant distributions, with clear variation in NO2 and SO2.\n",
    "- Identified that `pm2_5` is largely missing, while other pollutants are more complete.\n",
    "- NO2 levels vary across area types and states.\n",
    "- Yearly trends may reveal policy or industrial changes over time.\n"
   ]
  }
 ],
 "metadata": {},
 "nbformat": 4,
 "nbformat_minor": 5
}
